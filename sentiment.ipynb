{
 "cells": [
  {
   "cell_type": "code",
   "execution_count": 36,
   "id": "006cf918",
   "metadata": {},
   "outputs": [],
   "source": [
    "from langdetect import detect, detect_langs\n",
    "from textblob import TextBlob\n",
    "from translate import Translator"
   ]
  },
  {
   "cell_type": "code",
   "execution_count": 37,
   "id": "6d62a136",
   "metadata": {},
   "outputs": [
    {
     "name": "stdout",
     "output_type": "stream",
     "text": [
      "Sentiment(polarity=0.0, subjectivity=0.0)\n",
      "Sentiment(polarity=0.575, subjectivity=0.55)\n"
     ]
    }
   ],
   "source": [
    "text1 = \"I am smiling cause it is a day\"\n",
    "text2 = \"I will smile every day cause it is a beautiful day\"\n",
    "Blob1 = TextBlob(text1)\n",
    "Blob2 = TextBlob(text2)\n",
    "\n",
    "print(Blob1.sentiment)\n",
    "print(Blob2.sentiment)"
   ]
  },
  {
   "cell_type": "code",
   "execution_count": 27,
   "id": "ec119c27",
   "metadata": {},
   "outputs": [
    {
     "name": "stdout",
     "output_type": "stream",
     "text": [
      "Sentiment(polarity=0.0, subjectivity=0.0)\n",
      "Sentiment(polarity=0.12424242424242422, subjectivity=0.3696969696969697)\n"
     ]
    }
   ],
   "source": [
    "text = \"আজকের নতুন জীবনে সব কিছুই নতুন পুরোনো সব স্মৃতি ভুলে গেছি খুঁজে পেয়েছি নতুন করে নিজেকে @ Guwahati City https://t.co/T8F00Ql9vT\"\n",
    "\n",
    "Blob1 = TextBlob(text)\n",
    "print(Blob1.sentiment)\n",
    "\n",
    "translator= Translator(from_lang=detect(text),to_lang=\"en\")\n",
    "translation = translator.translate(text)\n",
    "translation\n",
    "\n",
    "Blob2 = TextBlob(translation)\n",
    "print(Blob2.sentiment)"
   ]
  }
 ],
 "metadata": {
  "kernelspec": {
   "display_name": "Python 3 (ipykernel)",
   "language": "python",
   "name": "python3"
  },
  "language_info": {
   "codemirror_mode": {
    "name": "ipython",
    "version": 3
   },
   "file_extension": ".py",
   "mimetype": "text/x-python",
   "name": "python",
   "nbconvert_exporter": "python",
   "pygments_lexer": "ipython3",
   "version": "3.9.7"
  }
 },
 "nbformat": 4,
 "nbformat_minor": 5
}
