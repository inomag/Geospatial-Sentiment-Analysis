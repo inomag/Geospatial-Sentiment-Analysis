{
 "cells": [
  {
   "cell_type": "code",
   "execution_count": 4,
   "id": "006cf918",
   "metadata": {},
   "outputs": [],
   "source": [
    "\n",
    "from nltk.sentiment import SentimentIntensityAnalyzer\n",
    "import pandas as pd\n",
    "sia = SentimentIntensityAnalyzer()"
   ]
  },
  {
   "cell_type": "code",
   "execution_count": 5,
   "id": "6d62a136",
   "metadata": {},
   "outputs": [
    {
     "ename": "TypeError",
     "evalue": "'list' object cannot be interpreted as an integer",
     "output_type": "error",
     "traceback": [
      "\u001b[1;31m---------------------------------------------------------------------------\u001b[0m",
      "\u001b[1;31mTypeError\u001b[0m                                 Traceback (most recent call last)",
      "\u001b[1;32mc:\\Users\\LENOVO\\Desktop\\College\\Geospatial-Sentiment-Analysis-1\\sentiment.ipynb Cell 2'\u001b[0m in \u001b[0;36m<module>\u001b[1;34m\u001b[0m\n\u001b[0;32m      <a href='vscode-notebook-cell:/c%3A/Users/LENOVO/Desktop/College/Geospatial-Sentiment-Analysis-1/sentiment.ipynb#ch0000001?line=1'>2</a>\u001b[0m score \u001b[39m=\u001b[39m []\n\u001b[0;32m      <a href='vscode-notebook-cell:/c%3A/Users/LENOVO/Desktop/College/Geospatial-Sentiment-Analysis-1/sentiment.ipynb#ch0000001?line=2'>3</a>\u001b[0m sentiment \u001b[39m=\u001b[39m []\n\u001b[1;32m----> <a href='vscode-notebook-cell:/c%3A/Users/LENOVO/Desktop/College/Geospatial-Sentiment-Analysis-1/sentiment.ipynb#ch0000001?line=4'>5</a>\u001b[0m \u001b[39mfor\u001b[39;00m city \u001b[39min\u001b[39;00m \u001b[39mrange\u001b[39;49m(cities):\n\u001b[0;32m      <a href='vscode-notebook-cell:/c%3A/Users/LENOVO/Desktop/College/Geospatial-Sentiment-Analysis-1/sentiment.ipynb#ch0000001?line=5'>6</a>\u001b[0m     city_data \u001b[39m=\u001b[39m pd\u001b[39m.\u001b[39mread_csv(\u001b[39m\"\u001b[39m\u001b[39m./final datasets/\u001b[39m\u001b[39m\"\u001b[39m \u001b[39m+\u001b[39m city \u001b[39m+\u001b[39m \u001b[39m\"\u001b[39m\u001b[39m_data.csv\u001b[39m\u001b[39m\"\u001b[39m)\n\u001b[0;32m      <a href='vscode-notebook-cell:/c%3A/Users/LENOVO/Desktop/College/Geospatial-Sentiment-Analysis-1/sentiment.ipynb#ch0000001?line=6'>7</a>\u001b[0m \u001b[39mfor\u001b[39;00m i \u001b[39min\u001b[39;00m \u001b[39mrange\u001b[39m(\u001b[39mlen\u001b[39m(city_data)):\n",
      "\u001b[1;31mTypeError\u001b[0m: 'list' object cannot be interpreted as an integer"
     ]
    }
   ],
   "source": [
    "cities = ['Silchar','Guwahati']\n",
    "score = []\n",
    "sentiment = []\n",
    "\n",
    "for city in cities:\n",
    "    city_data = pd.read_csv(\"./final datasets/\" + city + \"_data.csv\")\n",
    "for i in range(len(city_data)):\n",
    "    fullText = \"\"\n",
    "    if city_data.loc[i,'Full Text']==city_data.loc[i,'Full Text']:\n",
    "        fullText = city_data.loc[i,'Full Text']\n",
    "        words = fullText.split(' ')\n",
    "        sentimentScore = 0\n",
    "    for word in words:\n",
    "        sentimentScore += sia.polarity_scores(word)['compound']    \n",
    "    sentimentScore /= len(fullText)\n",
    "    score.append(sentimentScore)\n",
    "    if (sentimentScore < -0.5):\n",
    "        sentiment.append('Very Negative')\n",
    "    elif (sentimentScore < 0.0): \n",
    "        sentiment.append('Negative')\n",
    "    elif (sentimentScore == 0.0):\n",
    "        sentiment.append('Neutral')\n",
    "    elif (sentimentScore > 0.5):\n",
    "        sentiment.append('Very Positive')\n",
    "    elif (sentimentScore > 0.0):\n",
    "        sentiment.append('Positive')\n",
    "\n",
    "city_data['Sentiment Score'] = score\n",
    "city_data['Sentiment'] = sentiment\n",
    "city_data.to_csv(\"./final datasets/\" + city + \"_data.csv\")\n",
    "\n"
   ]
  }
 ],
 "metadata": {
  "kernelspec": {
   "display_name": "Python 3 (ipykernel)",
   "language": "python",
   "name": "python3"
  },
  "language_info": {
   "codemirror_mode": {
    "name": "ipython",
    "version": 3
   },
   "file_extension": ".py",
   "mimetype": "text/x-python",
   "name": "python",
   "nbconvert_exporter": "python",
   "pygments_lexer": "ipython3",
   "version": "3.9.2"
  }
 },
 "nbformat": 4,
 "nbformat_minor": 5
}
