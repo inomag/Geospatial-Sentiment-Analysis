{
 "cells": [
  {
   "cell_type": "code",
   "execution_count": 3,
   "id": "006cf918",
   "metadata": {},
   "outputs": [],
   "source": [
    "\n",
    "from nltk.sentiment import SentimentIntensityAnalyzer\n",
    "import pandas as pd\n",
    "sia = SentimentIntensityAnalyzer()"
   ]
  },
  {
   "cell_type": "code",
   "execution_count": 5,
   "id": "fee87ec4",
   "metadata": {},
   "outputs": [],
   "source": [
    "from textblob import TextBlob as TB\n",
    "import pandas as pd\n",
    "silchar = pd.read_csv(\"./final datasets/Silchar_data.csv\")\n",
    "guwahati = pd.read_csv(\"./final datasets/Guwahati_data.csv\")\n",
    "\n",
    "cities = ['Silchar', 'Guwahati']\n",
    "score = []\n",
    "sentiment = []\n",
    "\n",
    "for city in cities:\n",
    "    city_data = pd.read_csv(\"./final datasets/\" + city + \"_data.csv\")\n",
    "for i in range(len(city_data)):\n",
    "    fullText = \"\"\n",
    "    if city_data.loc[i, 'Full Text'] == city_data.loc[i, 'Full Text']:\n",
    "        fullText = city_data.loc[i, 'Full Text']\n",
    "    sentimentScore = TB(fullText).sentiment.polarity\n",
    "    sentimentScore = float(sentimentScore)\n",
    "    score.append(sentimentScore)\n",
    "    if (sentimentScore < -0.5):\n",
    "        sentiment.append('Very Negative')\n",
    "    elif (sentimentScore < 0.0):\n",
    "        sentiment.append('Negative')\n",
    "    elif (sentimentScore == 0.0):\n",
    "        sentiment.append('Neutral')\n",
    "    elif (sentimentScore > 0.5):\n",
    "        sentiment.append('Very Positive')\n",
    "    elif (sentimentScore > 0.0):\n",
    "        sentiment.append('Positive')\n",
    "\n",
    "city_data['Sentiment Score'] = score\n",
    "city_data['Sentiment'] = sentiment\n",
    "city_data.to_csv(\"./final datasets/\" + city + \"_data.csv\")\n"
   ]
  }
 ],
 "metadata": {
  "kernelspec": {
   "display_name": "Python 3 (ipykernel)",
   "language": "python",
   "name": "python3"
  },
  "language_info": {
   "codemirror_mode": {
    "name": "ipython",
    "version": 3
   },
   "file_extension": ".py",
   "mimetype": "text/x-python",
   "name": "python",
   "nbconvert_exporter": "python",
   "pygments_lexer": "ipython3",
   "version": "3.9.2"
  }
 },
 "nbformat": 4,
 "nbformat_minor": 5
}
