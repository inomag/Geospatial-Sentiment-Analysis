{
 "cells": [
  {
   "cell_type": "code",
   "execution_count": 1,
   "id": "006cf918",
   "metadata": {},
   "outputs": [],
   "source": [
    "\n",
    "from textblob import TextBlob as TB\n",
    "import pandas as pd"
   ]
  },
  {
   "cell_type": "code",
   "execution_count": 5,
   "id": "6d62a136",
   "metadata": {},
   "outputs": [],
   "source": [
    "silchar = pd.read_csv(\"./final datasets/Silchar_data.csv\")\n",
    "guwahati = pd.read_csv(\"./final datasets/Guwahati_data.csv\")\n",
    "\n",
    "score = []\n",
    "sentiment = []\n",
    "\n",
    "for i in range(len(silchar)):\n",
    "    fullText = \"\"\n",
    "    if silchar.loc[i,'Full Text']==silchar.loc[i,'Full Text']:\n",
    "        fullText = silchar.loc[i,'Full Text']\n",
    "    sentimentScore = TB(fullText).sentiment.polarity\n",
    "    sentimentScore = float (sentimentScore)\n",
    "    score.append(sentimentScore)\n",
    "    if (sentimentScore < -0.5):\n",
    "        sentiment.append('Very Negative')\n",
    "    elif (sentimentScore < 0.0): \n",
    "        sentiment.append('Negative')\n",
    "    elif (sentimentScore == 0.0):\n",
    "        sentiment.append('Neutral')\n",
    "    elif (sentimentScore > 0.5):\n",
    "        sentiment.append('Very Positive')\n",
    "    elif (sentimentScore > 0.0):\n",
    "        sentiment.append('Positive')\n",
    "\n",
    "silchar['Sentiment Score'] = score\n",
    "silchar['Sentiment'] = sentiment\n",
    "silchar.to_csv(\"./final datasets/Silchar_data.csv\")\n",
    "\n",
    "score = []\n",
    "sentiment = []\n",
    "\n",
    "for i in range(len(guwahati)):\n",
    "    fullText = \"\"\n",
    "    if guwahati.loc[i,'Full Text']==guwahati.loc[i,'Full Text']:\n",
    "        fullText = guwahati.loc[i,'Full Text']\n",
    "    sentimentScore = TB(fullText).sentiment.polarity\n",
    "    sentimentScore = float (sentimentScore)\n",
    "    score.append(sentimentScore)\n",
    "    if (sentimentScore < -0.5):\n",
    "        sentiment.append('Very Negative')\n",
    "    elif (sentimentScore < 0.0): \n",
    "        sentiment.append('Negative')\n",
    "    elif (sentimentScore == 0.0):\n",
    "        sentiment.append('Neutral')\n",
    "    elif (sentimentScore > 0.5):\n",
    "        sentiment.append('Very Positive')\n",
    "    elif (sentimentScore > 0.0):\n",
    "        sentiment.append('Positive')\n",
    "\n",
    "guwahati['Sentiment Score'] = score\n",
    "guwahati['Sentiment'] = sentiment\n",
    "guwahati.to_csv(\"./final datasets/Guwahati_data.csv\")"
   ]
  }
 ],
 "metadata": {
  "kernelspec": {
   "display_name": "Python 3 (ipykernel)",
   "language": "python",
   "name": "python3"
  },
  "language_info": {
   "codemirror_mode": {
    "name": "ipython",
    "version": 3
   },
   "file_extension": ".py",
   "mimetype": "text/x-python",
   "name": "python",
   "nbconvert_exporter": "python",
   "pygments_lexer": "ipython3",
   "version": "3.9.7"
  }
 },
 "nbformat": 4,
 "nbformat_minor": 5
}
